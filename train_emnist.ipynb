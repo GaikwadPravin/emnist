{
 "cells": [
  {
   "cell_type": "code",
   "execution_count": 1,
   "metadata": {},
   "outputs": [],
   "source": [
    "import cv2\n",
    "import torch\n",
    "import torch.nn as nn\n",
    "import torch.optim as optim\n",
    "import torch.nn.functional as F\n",
    "import numpy as np\n",
    "import os\n",
    "from PIL import Image\n",
    "from PIL import ImageOps\n",
    "from torchvision import datasets, transforms\n",
    "from torch.autograd import Variable\n",
    "import matplotlib.pyplot as plt\n",
    "from torchvision.datasets import ImageFolder\n",
    "from torch.utils.data import DataLoader\n",
    "from torchvision.transforms import ToTensor"
   ]
  },
  {
   "cell_type": "code",
   "execution_count": 2,
   "metadata": {},
   "outputs": [],
   "source": [
    "idx = ['0','1','2','3','4','5','6','7','8','9',\n",
    "       'A','B','C','D','E','F','G','H','I','J','K','L','M','N','O','P','Q','R','S','T','U','V','W','X','Y','Z',\n",
    "       'a','b','d','e','f','g','h','n','q','r','t']"
   ]
  },
  {
   "cell_type": "code",
   "execution_count": null,
   "metadata": {
    "scrolled": true
   },
   "outputs": [],
   "source": [
    "for ix in idx:\n",
    "    root = \"./03_emnist_data/\"+ix\n",
    "    for folder in os.listdir(root):\n",
    "        path = root +'/'+folder\n",
    "        if os.path.isdir(path):\n",
    "            print(path)\n",
    "            for name in os.listdir(path):\n",
    "                ipath = os.path.join(path, name)\n",
    "                #print(ipath)\n",
    "                img = cv2.imread(ipath,0)\n",
    "                img = 255 - img\n",
    "                saveto = root+'/'+name\n",
    "                cv2.imwrite(saveto, img)\n",
    "            "
   ]
  },
  {
   "cell_type": "code",
   "execution_count": 3,
   "metadata": {},
   "outputs": [],
   "source": [
    "def pil_loader(path):\n",
    "    with open(path, 'rb') as f:\n",
    "        img = Image.open(f)\n",
    "        return img.convert('L')"
   ]
  },
  {
   "cell_type": "code",
   "execution_count": 4,
   "metadata": {},
   "outputs": [],
   "source": [
    "mydata = ImageFolder(root=\"03_emnist_data\", transform=ToTensor(), loader=pil_loader)\n",
    "loader = DataLoader(mydata, batch_size=10, shuffle=True, num_workers=2)"
   ]
  },
  {
   "cell_type": "code",
   "execution_count": 6,
   "metadata": {},
   "outputs": [],
   "source": [
    "class Net(nn.Module):\n",
    "    def __init__(self):\n",
    "        super(Net, self).__init__()\n",
    "        self.conv1 = nn.Conv2d(1, 32, kernel_size=5)\n",
    "        self.conv2 = nn.Conv2d(32, 128, kernel_size=5)\n",
    "        self.conv2_drop = nn.Dropout2d()\n",
    "        self.fc1 = nn.Linear(107648, 2048)\n",
    "        self.fc3 = nn.Linear(2048, 512)\n",
    "        self.fc5 = nn.Linear(512, 47)\n",
    "\n",
    "    def forward(self, x):\n",
    "        x = F.relu(F.max_pool2d(self.conv1(x), 2))\n",
    "        x = F.relu(F.max_pool2d(self.conv2_drop(self.conv2(x)), 2))\n",
    "        #print(x.size())\n",
    "        x = x.view(-1, 107648)\n",
    "        x = F.relu(self.fc1(x))\n",
    "        x = F.dropout(x, training=self.training)\n",
    "        x = F.relu(self.fc3(x))\n",
    "        x = F.dropout(x, training=self.training)\n",
    "        x = self.fc5(x)\n",
    "        return x\n",
    "\n",
    "model = Net()\n",
    "model.cuda()\n",
    "\n",
    "optimizer = optim.Adam(model.parameters(), lr=1e-4, eps=1e-4)"
   ]
  },
  {
   "cell_type": "code",
   "execution_count": null,
   "metadata": {},
   "outputs": [],
   "source": [
    "from IPython.display import clear_output\n",
    "def train(epoch):\n",
    "    model.train()\n",
    "    for batch_idx, (data, target) in enumerate(loader):\n",
    "        data, target = data.cuda(), target.cuda()\n",
    "        data, target = Variable(data), Variable(target)\n",
    "        optimizer.zero_grad()\n",
    "        output = model(data)\n",
    "        loss = nn.CrossEntropyLoss()\n",
    "        output = loss(output, target)\n",
    "        output.backward()\n",
    "        optimizer.step()\n",
    "        if batch_idx %1700 == 0:\n",
    "            clear_output()\n",
    "        if batch_idx % 100 == 0:\n",
    "             print('Train Epoch: {} [{}/{} ({:.0f}%)]\\tLoss: {:.6f}'.format(\n",
    "                 epoch, batch_idx * len(data), len(loader.dataset),\n",
    "                 100. * batch_idx / len(loader), output.data[0]))\n",
    "        #    print()"
   ]
  },
  {
   "cell_type": "code",
   "execution_count": null,
   "metadata": {
    "scrolled": false
   },
   "outputs": [],
   "source": [
    "for epoch in range(5):\n",
    "    train(epoch)"
   ]
  },
  {
   "cell_type": "code",
   "execution_count": null,
   "metadata": {},
   "outputs": [],
   "source": [
    "torch.save(model.state_dict(), 'char_recognizer.pt')"
   ]
  },
  {
   "cell_type": "code",
   "execution_count": 8,
   "metadata": {},
   "outputs": [
    {
     "data": {
      "text/plain": [
       "Net(\n",
       "  (conv1): Conv2d (1, 32, kernel_size=(5, 5), stride=(1, 1))\n",
       "  (conv2): Conv2d (32, 128, kernel_size=(5, 5), stride=(1, 1))\n",
       "  (conv2_drop): Dropout2d(p=0.5)\n",
       "  (fc1): Linear(in_features=107648, out_features=2048)\n",
       "  (fc3): Linear(in_features=2048, out_features=512)\n",
       "  (fc5): Linear(in_features=512, out_features=47)\n",
       ")"
      ]
     },
     "execution_count": 8,
     "metadata": {},
     "output_type": "execute_result"
    }
   ],
   "source": [
    "model = Net()\n",
    "model.load_state_dict(torch.load(\"char_recognizer.pt\"))\n",
    "model.cuda()"
   ]
  },
  {
   "cell_type": "code",
   "execution_count": 14,
   "metadata": {},
   "outputs": [],
   "source": [
    "def predict_char(gray):\n",
    "    w = gray.size[0]\n",
    "    h = gray.size[1]\n",
    "    gray = gray.convert('L')\n",
    "    gray = gray.point(lambda x: 0 if x<180 else 255, '1')\n",
    "    x= int(64- (w/2))\n",
    "    y = int(64- (h/2))\n",
    "    canvas = Image.new('L', (128, 128), (255))\n",
    "    canvas.paste(gray, box=(x, y))\n",
    "\n",
    "    canvas = ImageOps.invert(canvas)\n",
    "    canvas = np.array(canvas)\n",
    "    canvas = canvas / 255.0\n",
    "    \n",
    "    plt.imshow(canvas)\n",
    "    plt.show()\n",
    "\n",
    "    #test_data = np.array(gray)\n",
    "    test_output = model(Variable(torch.FloatTensor(canvas).unsqueeze(0).unsqueeze(0).cuda()))\n",
    "    pred = test_output.data.max(1, keepdim=True)[1] \n",
    "    pred = np.array(pred).squeeze(0).squeeze(0)\n",
    "    print(idx[pred])"
   ]
  },
  {
   "cell_type": "code",
   "execution_count": 15,
   "metadata": {},
   "outputs": [
    {
     "data": {
      "image/png": "[encoded data removed]",
      "text/plain": [
       "<matplotlib.figure.Figure at 0x7fcfadef2240>"
      ]
     },
     "metadata": {},
     "output_type": "display_data"
    },
    {
     "name": "stdout",
     "output_type": "stream",
     "text": [
      "H\n"
     ]
    }
   ],
   "source": [
    "pil_im =  Image.open(\"ref.jpg\")\n",
    "predict_char(pil_im)"
   ]
  }
 ],
 "metadata": {
  "kernelspec": {
   "display_name": "Python 3",
   "language": "python",
   "name": "python3"
  },
  "language_info": {
   "codemirror_mode": {
    "name": "ipython",
    "version": 3
   },
   "file_extension": ".py",
   "mimetype": "text/x-python",
   "name": "python",
   "nbconvert_exporter": "python",
   "pygments_lexer": "ipython3",
   "version": "3.5.2"
  }
 },
 "nbformat": 4,
 "nbformat_minor": 2
}
